{
 "cells": [
  {
   "cell_type": "code",
   "execution_count": 1,
   "metadata": {
    "collapsed": true
   },
   "outputs": [],
   "source": [
    "import os\n",
    "import re\n",
    "import numpy as np\n",
    "from tqdm import tqdm\n",
    "from bleach import clean\n",
    "from bs4 import BeautifulSoup"
   ]
  },
  {
   "cell_type": "code",
   "execution_count": 2,
   "metadata": {
    "collapsed": true
   },
   "outputs": [],
   "source": [
    "root = '../Downloads/Dataset/train/'\n",
    "opj = os.path.join"
   ]
  },
  {
   "cell_type": "code",
   "execution_count": 3,
   "metadata": {
    "collapsed": true
   },
   "outputs": [],
   "source": [
    "labels = list(os.listdir(root))\n",
    "texts, targets = [], []"
   ]
  },
  {
   "cell_type": "code",
   "execution_count": 4,
   "metadata": {
    "collapsed": true,
    "scrolled": true
   },
   "outputs": [],
   "source": [
    "def prep(xml):\n",
    "    soup = BeautifulSoup(xml, 'lxml')\n",
    "    cn = soup.get_text().strip()\n",
    "    r = re.sub(r\"(?is)<(script|style).*?>.*?(</\\1>)\", \"\", cn.strip())\n",
    "    # Then we remove html comments. This has to be done before removing regular\n",
    "    # tags since comm\\d  '[^\\w]'ents can contain '>' characters.\n",
    "    r = re.sub(r'[/\\W+/g+\\d+\\s+\\t]',\" \",r)\n",
    "    r = re.sub(r'<.*?>', \" \", r)\n",
    "    r = re.sub(r\"(?s)<.*?>\", \" \", r)\n",
    "    r = re.sub(r\"&nbsp;\", ' ', r)\n",
    "    r = re.sub(r'\\s+', ' ',r)\n",
    "    r = re.sub(r\"  \", \" \", r)\n",
    "    r = re.sub(r\"  \", \" \", r)\n",
    "    r = clean(r)\n",
    "    return r"
   ]
  },
  {
   "cell_type": "code",
   "execution_count": 5,
   "metadata": {
    "scrolled": false
   },
   "outputs": [
    {
     "name": "stderr",
     "output_type": "stream",
     "text": [
      "Labels:   0%|          | 0/2 [00:00<?, ?it/s]\n",
      "Reading Files:   0%|          | 0/300 [00:00<?, ?it/s]\u001b[A\n",
      "Reading Files:   0%|          | 1/300 [00:00<00:44,  6.67it/s]\u001b[A\n",
      "Reading Files:   1%|          | 3/300 [00:00<00:35,  8.39it/s]\u001b[A\n",
      "Reading Files:   2%|▏         | 5/300 [00:00<00:33,  8.69it/s]\u001b[A\n",
      "Reading Files:   2%|▏         | 6/300 [00:00<00:33,  8.76it/s]\u001b[A\n",
      "Reading Files:   3%|▎         | 8/300 [00:00<00:30,  9.60it/s]\u001b[A\n",
      "Reading Files:   3%|▎         | 9/300 [00:00<00:30,  9.61it/s]\u001b[A\n",
      "Reading Files:   4%|▍         | 12/300 [00:01<00:25, 11.32it/s]\u001b[A\n",
      "Reading Files:   5%|▌         | 15/300 [00:01<00:22, 12.91it/s]\u001b[A\n",
      "Reading Files:   6%|▌         | 17/300 [00:01<00:26, 10.65it/s]\u001b[A\n",
      "Reading Files:   6%|▋         | 19/300 [00:01<00:25, 11.20it/s]\u001b[A\n",
      "Reading Files:   8%|▊         | 23/300 [00:01<00:22, 12.55it/s]\u001b[A\n",
      "Reading Files:   9%|▊         | 26/300 [00:01<00:20, 13.15it/s]\u001b[A\n",
      "Reading Files:  10%|▉         | 29/300 [00:02<00:20, 13.04it/s]\u001b[A\n",
      "Reading Files:  11%|█         | 32/300 [00:02<00:19, 13.55it/s]\u001b[A\n",
      "Reading Files:  12%|█▏        | 35/300 [00:02<00:19, 13.81it/s]\u001b[A\n",
      "Reading Files:  13%|█▎        | 38/300 [00:02<00:18, 13.99it/s]\u001b[A\n",
      "Reading Files:  14%|█▎        | 41/300 [00:02<00:18, 14.05it/s]\u001b[A\n",
      "Reading Files:  14%|█▍        | 43/300 [00:03<00:18, 13.91it/s]\u001b[A\n",
      "Reading Files:  16%|█▌        | 47/300 [00:03<00:17, 14.32it/s]\u001b[A\n",
      "Reading Files:  17%|█▋        | 50/300 [00:03<00:17, 14.63it/s]\u001b[A\n",
      "Reading Files:  17%|█▋        | 52/300 [00:03<00:17, 14.48it/s]\u001b[A\n",
      "Reading Files:  18%|█▊        | 55/300 [00:03<00:16, 14.74it/s]\u001b[A\n",
      "Reading Files:  19%|█▉        | 57/300 [00:03<00:16, 14.67it/s]\u001b[A\n",
      "Reading Files:  20%|█▉        | 59/300 [00:03<00:16, 14.79it/s]\u001b[A\n",
      "Reading Files:  21%|██        | 62/300 [00:04<00:15, 15.15it/s]\u001b[A\n",
      "Reading Files:  22%|██▏       | 65/300 [00:04<00:15, 15.06it/s]\u001b[A\n",
      "Reading Files:  22%|██▏       | 67/300 [00:04<00:15, 14.81it/s]\u001b[A\n",
      "Reading Files:  23%|██▎       | 69/300 [00:04<00:15, 14.76it/s]\u001b[A\n",
      "Reading Files:  24%|██▎       | 71/300 [00:04<00:15, 14.63it/s]\u001b[A\n",
      "Reading Files:  24%|██▍       | 73/300 [00:04<00:15, 14.72it/s]\u001b[A\n",
      "Reading Files:  25%|██▌       | 76/300 [00:05<00:15, 14.76it/s]\u001b[A\n",
      "Reading Files:  26%|██▌       | 78/300 [00:05<00:14, 14.85it/s]\u001b[A\n",
      "Reading Files:  27%|██▋       | 81/300 [00:05<00:14, 15.13it/s]\u001b[A\n",
      "Reading Files:  28%|██▊       | 85/300 [00:05<00:14, 15.22it/s]\u001b[A\n",
      "Reading Files:  29%|██▉       | 88/300 [00:05<00:13, 15.28it/s]\u001b[A\n",
      "Reading Files:  30%|███       | 91/300 [00:05<00:13, 15.28it/s]\u001b[A\n",
      "Reading Files:  31%|███       | 93/300 [00:06<00:13, 15.30it/s]\u001b[A\n",
      "Reading Files:  33%|███▎      | 99/300 [00:06<00:12, 15.77it/s]\u001b[A\n",
      "Reading Files:  34%|███▍      | 102/300 [00:06<00:12, 15.64it/s]\u001b[A\n",
      "Reading Files:  35%|███▍      | 104/300 [00:06<00:12, 15.63it/s]\u001b[A\n",
      "Reading Files:  36%|███▋      | 109/300 [00:06<00:11, 15.94it/s]\u001b[A\n",
      "Reading Files:  37%|███▋      | 112/300 [00:07<00:11, 15.90it/s]\u001b[A\n",
      "Reading Files:  38%|███▊      | 114/300 [00:07<00:11, 15.69it/s]\u001b[A\n",
      "Reading Files:  39%|███▉      | 118/300 [00:07<00:11, 15.90it/s]\u001b[A\n",
      "Reading Files:  40%|████      | 120/300 [00:07<00:11, 15.23it/s]\u001b[A\n",
      "Reading Files:  41%|████      | 122/300 [00:08<00:11, 15.03it/s]\u001b[A\n",
      "Reading Files:  41%|████▏     | 124/300 [00:08<00:11, 14.93it/s]\u001b[A\n",
      "Reading Files:  42%|████▏     | 127/300 [00:08<00:11, 14.98it/s]\u001b[A\n",
      "Reading Files:  43%|████▎     | 129/300 [00:08<00:11, 15.04it/s]\u001b[A\n",
      "Reading Files:  44%|████▎     | 131/300 [00:08<00:11, 14.77it/s]\u001b[A\n",
      "Reading Files:  44%|████▍     | 133/300 [00:09<00:11, 14.39it/s]\u001b[A\n",
      "Reading Files:  45%|████▌     | 135/300 [00:09<00:11, 14.43it/s]\u001b[A\n",
      "Reading Files:  46%|████▌     | 137/300 [00:09<00:11, 14.26it/s]\u001b[A\n",
      "Reading Files:  46%|████▋     | 139/300 [00:09<00:11, 14.26it/s]\u001b[A\n",
      "Reading Files:  47%|████▋     | 141/300 [00:09<00:11, 14.13it/s]\u001b[A\n",
      "Reading Files:  49%|████▊     | 146/300 [00:10<00:10, 14.48it/s]\u001b[A\n",
      "Reading Files:  50%|████▉     | 149/300 [00:10<00:10, 14.50it/s]\u001b[A\n",
      "Reading Files:  51%|█████     | 152/300 [00:10<00:10, 14.46it/s]\u001b[A\n",
      "Reading Files:  52%|█████▏    | 155/300 [00:10<00:10, 14.44it/s]\u001b[A\n",
      "Reading Files:  52%|█████▏    | 157/300 [00:10<00:09, 14.46it/s]\u001b[A\n",
      "Reading Files:  54%|█████▎    | 161/300 [00:11<00:09, 14.60it/s]\u001b[A\n",
      "Reading Files:  55%|█████▍    | 164/300 [00:11<00:09, 14.70it/s]\u001b[A\n",
      "Reading Files:  56%|█████▌    | 167/300 [00:11<00:08, 14.83it/s]\u001b[A\n",
      "Reading Files:  57%|█████▋    | 171/300 [00:11<00:08, 14.96it/s]\u001b[A\n",
      "Reading Files:  58%|█████▊    | 174/300 [00:11<00:08, 14.87it/s]\u001b[A\n",
      "Reading Files:  59%|█████▊    | 176/300 [00:12<00:08, 14.47it/s]\u001b[A\n",
      "Reading Files:  59%|█████▉    | 178/300 [00:12<00:08, 14.31it/s]\u001b[A\n",
      "Reading Files:  60%|██████    | 181/300 [00:12<00:08, 14.21it/s]\u001b[A\n",
      "Reading Files:  61%|██████    | 183/300 [00:12<00:08, 14.15it/s]\u001b[A\n",
      "Reading Files:  62%|██████▏   | 185/300 [00:13<00:08, 14.09it/s]\u001b[A\n",
      "Reading Files:  62%|██████▏   | 187/300 [00:13<00:08, 14.04it/s]\u001b[A\n",
      "Reading Files:  63%|██████▎   | 189/300 [00:14<00:08, 12.81it/s]\u001b[A\n",
      "Reading Files:  64%|██████▍   | 192/300 [00:14<00:08, 12.86it/s]\u001b[A\n",
      "Reading Files:  65%|██████▌   | 195/300 [00:15<00:08, 12.98it/s]\u001b[A\n",
      "Reading Files:  66%|██████▌   | 198/300 [00:15<00:07, 13.05it/s]\u001b[A\n",
      "Reading Files:  67%|██████▋   | 200/300 [00:15<00:07, 12.82it/s]\u001b[A\n",
      "Reading Files:  67%|██████▋   | 202/300 [00:15<00:07, 12.81it/s]\u001b[A\n",
      "Reading Files:  68%|██████▊   | 204/300 [00:15<00:07, 12.78it/s]\u001b[A\n",
      "Reading Files:  69%|██████▊   | 206/300 [00:16<00:07, 12.82it/s]\u001b[A\n",
      "Reading Files:  69%|██████▉   | 208/300 [00:16<00:07, 12.81it/s]\u001b[A\n",
      "Reading Files:  70%|███████   | 210/300 [00:16<00:07, 12.79it/s]\u001b[A\n",
      "Reading Files:  71%|███████   | 212/300 [00:16<00:06, 12.73it/s]\u001b[A\n",
      "Reading Files:  72%|███████▏  | 216/300 [00:16<00:06, 12.89it/s]\u001b[A\n",
      "Reading Files:  73%|███████▎  | 218/300 [00:16<00:06, 12.93it/s]\u001b[A\n",
      "Reading Files:  73%|███████▎  | 220/300 [00:17<00:06, 12.86it/s]\u001b[A\n",
      "Reading Files:  74%|███████▍  | 223/300 [00:17<00:05, 12.94it/s]\u001b[A\n",
      "Reading Files:  75%|███████▌  | 225/300 [00:17<00:05, 12.87it/s]\u001b[A\n",
      "Reading Files:  76%|███████▌  | 227/300 [00:17<00:05, 12.91it/s]\u001b[A\n",
      "Reading Files:  76%|███████▋  | 229/300 [00:17<00:05, 12.84it/s]\u001b[A\n",
      "Reading Files:  77%|███████▋  | 231/300 [00:18<00:05, 12.76it/s]\u001b[A\n",
      "Reading Files:  78%|███████▊  | 233/300 [00:18<00:05, 12.79it/s]\u001b[A\n",
      "Reading Files:  78%|███████▊  | 235/300 [00:18<00:05, 12.81it/s]\u001b[A\n",
      "Reading Files:  79%|███████▉  | 238/300 [00:18<00:04, 12.89it/s]\u001b[A\n",
      "Reading Files:  81%|████████  | 242/300 [00:18<00:04, 12.96it/s]\u001b[A\n",
      "Reading Files:  82%|████████▏ | 245/300 [00:18<00:04, 13.02it/s]\u001b[A\n",
      "Reading Files:  82%|████████▏ | 247/300 [00:18<00:04, 13.05it/s]\u001b[A\n",
      "Reading Files:  83%|████████▎ | 249/300 [00:19<00:03, 13.06it/s]\u001b[A\n",
      "Reading Files:  84%|████████▎ | 251/300 [00:19<00:03, 13.01it/s]\u001b[A\n",
      "Reading Files:  84%|████████▍ | 253/300 [00:19<00:03, 13.00it/s]\u001b[A\n",
      "Reading Files:  85%|████████▌ | 255/300 [00:19<00:03, 12.94it/s]\u001b[A\n",
      "Reading Files:  86%|████████▌ | 257/300 [00:19<00:03, 12.97it/s]\u001b[A\n",
      "Reading Files:  86%|████████▋ | 259/300 [00:19<00:03, 12.96it/s]\u001b[A\n",
      "Reading Files:  87%|████████▋ | 261/300 [00:20<00:03, 12.87it/s]\u001b[A\n",
      "Reading Files:  88%|████████▊ | 263/300 [00:20<00:02, 12.90it/s]\u001b[A\n",
      "Reading Files:  89%|████████▊ | 266/300 [00:20<00:02, 12.94it/s]\u001b[A\n",
      "Reading Files:  89%|████████▉ | 268/300 [00:20<00:02, 12.87it/s]\u001b[A\n",
      "Reading Files:  90%|█████████ | 271/300 [00:20<00:02, 12.94it/s]\u001b[A\n",
      "Reading Files:  91%|█████████ | 273/300 [00:21<00:02, 12.88it/s]\u001b[A\n",
      "Reading Files:  92%|█████████▏| 275/300 [00:21<00:01, 12.91it/s]\u001b[A\n",
      "Reading Files:  93%|█████████▎| 278/300 [00:21<00:01, 12.98it/s]\u001b[A\n",
      "Reading Files:  93%|█████████▎| 280/300 [00:21<00:01, 12.93it/s]\u001b[A\n",
      "Reading Files:  94%|█████████▍| 282/300 [00:21<00:01, 12.84it/s]\u001b[A\n",
      "Reading Files:  95%|█████████▌| 285/300 [00:22<00:01, 12.89it/s]\u001b[A\n",
      "Reading Files:  96%|█████████▌| 288/300 [00:22<00:00, 12.96it/s]\u001b[A\n",
      "Reading Files:  97%|█████████▋| 291/300 [00:22<00:00, 13.03it/s]\u001b[A\n",
      "Reading Files:  98%|█████████▊| 294/300 [00:22<00:00, 13.02it/s]\u001b[A\n",
      "Reading Files:  99%|█████████▉| 297/300 [00:22<00:00, 13.07it/s]\u001b[A\n",
      "Reading Files: 100%|█████████▉| 299/300 [00:22<00:00, 13.02it/s]\u001b[A\n",
      "Labels:  50%|█████     | 1/2 [00:23<00:23, 23.12s/it] 13.04it/s]\u001b[A\n"
     ]
    },
    {
     "name": "stderr",
     "output_type": "stream",
     "text": [
      "Reading Files:   0%|          | 0/150 [00:00<?, ?it/s]\u001b[A\n",
      "Reading Files:   2%|▏         | 3/150 [00:00<00:06, 23.55it/s]\u001b[A\n",
      "Reading Files:   5%|▍         | 7/150 [00:00<00:05, 27.05it/s]\u001b[A\n",
      "Reading Files:   7%|▋         | 10/150 [00:00<00:05, 27.35it/s]\u001b[A\n",
      "Reading Files:   8%|▊         | 12/150 [00:00<00:05, 24.43it/s]\u001b[A\n",
      "Reading Files:   9%|▉         | 14/150 [00:00<00:06, 22.35it/s]\u001b[A\n",
      "Reading Files:  11%|█▏        | 17/150 [00:00<00:06, 20.47it/s]\u001b[A\n",
      "Reading Files:  13%|█▎        | 19/150 [00:00<00:06, 20.32it/s]\u001b[A\n",
      "Reading Files:  14%|█▍        | 21/150 [00:01<00:06, 20.11it/s]\u001b[A\n",
      "Reading Files:  15%|█▌        | 23/150 [00:01<00:07, 17.73it/s]\u001b[A\n",
      "Reading Files:  17%|█▋        | 26/150 [00:01<00:06, 18.56it/s]\u001b[A\n",
      "Reading Files:  19%|█▉        | 29/150 [00:01<00:06, 18.48it/s]\u001b[A\n",
      "Reading Files:  22%|██▏       | 33/150 [00:01<00:06, 19.25it/s]\u001b[A\n",
      "Reading Files:  24%|██▍       | 36/150 [00:01<00:06, 18.78it/s]\u001b[A\n",
      "Reading Files:  27%|██▋       | 41/150 [00:02<00:05, 19.97it/s]\u001b[A\n",
      "Reading Files:  30%|███       | 45/150 [00:02<00:05, 20.26it/s]\u001b[A\n",
      "Reading Files:  33%|███▎      | 49/150 [00:02<00:04, 20.90it/s]\u001b[A\n",
      "Reading Files:  35%|███▌      | 53/150 [00:02<00:04, 21.23it/s]\u001b[A\n",
      "Reading Files:  37%|███▋      | 56/150 [00:02<00:04, 21.48it/s]\u001b[A\n",
      "Reading Files:  39%|███▉      | 59/150 [00:02<00:04, 21.75it/s]\u001b[A\n",
      "Reading Files:  41%|████▏     | 62/150 [00:02<00:04, 21.07it/s]\u001b[A\n",
      "Reading Files:  43%|████▎     | 65/150 [00:03<00:04, 21.15it/s]\u001b[A\n",
      "Reading Files:  45%|████▌     | 68/150 [00:03<00:03, 20.96it/s]\u001b[A\n",
      "Reading Files:  47%|████▋     | 71/150 [00:03<00:03, 20.96it/s]\u001b[A\n",
      "Reading Files:  49%|████▉     | 74/150 [00:03<00:03, 21.22it/s]\u001b[A\n",
      "Reading Files:  52%|█████▏    | 78/150 [00:03<00:03, 21.66it/s]\u001b[A\n",
      "Reading Files:  54%|█████▍    | 81/150 [00:03<00:03, 21.19it/s]\u001b[A\n",
      "Reading Files:  56%|█████▌    | 84/150 [00:04<00:03, 20.98it/s]\u001b[A\n",
      "Reading Files:  58%|█████▊    | 87/150 [00:04<00:03, 20.51it/s]\u001b[A\n",
      "Reading Files:  60%|██████    | 90/150 [00:04<00:02, 20.70it/s]\u001b[A\n",
      "Reading Files:  62%|██████▏   | 93/150 [00:04<00:02, 20.19it/s]\u001b[A\n",
      "Reading Files:  63%|██████▎   | 95/150 [00:04<00:02, 19.80it/s]\u001b[A\n",
      "Reading Files:  66%|██████▌   | 99/150 [00:04<00:02, 20.18it/s]\u001b[A\n",
      "Reading Files:  68%|██████▊   | 102/150 [00:05<00:02, 19.97it/s]\u001b[A\n",
      "Reading Files:  70%|███████   | 105/150 [00:05<00:02, 19.60it/s]\u001b[A\n",
      "Reading Files:  72%|███████▏  | 108/150 [00:05<00:02, 19.73it/s]\u001b[A\n",
      "Reading Files:  74%|███████▍  | 111/150 [00:05<00:02, 19.04it/s]\u001b[A\n",
      "Reading Files:  76%|███████▌  | 114/150 [00:05<00:01, 19.17it/s]\u001b[A\n",
      "Reading Files:  77%|███████▋  | 116/150 [00:06<00:01, 19.13it/s]\u001b[A\n",
      "Reading Files:  79%|███████▉  | 119/150 [00:06<00:01, 19.23it/s]\u001b[A\n",
      "Reading Files:  81%|████████▏ | 122/150 [00:06<00:01, 19.14it/s]\u001b[A\n",
      "Reading Files:  83%|████████▎ | 124/150 [00:06<00:01, 19.05it/s]\u001b[A\n",
      "Reading Files:  84%|████████▍ | 126/150 [00:06<00:01, 18.96it/s]\u001b[A\n",
      "Reading Files:  85%|████████▌ | 128/150 [00:06<00:01, 18.68it/s]\u001b[A\n",
      "Reading Files:  87%|████████▋ | 130/150 [00:06<00:01, 18.66it/s]\u001b[A\n",
      "Reading Files:  88%|████████▊ | 132/150 [00:07<00:00, 18.66it/s]\u001b[A\n",
      "Reading Files:  90%|█████████ | 135/150 [00:07<00:00, 18.80it/s]\u001b[A\n",
      "Reading Files:  92%|█████████▏| 138/150 [00:07<00:00, 18.89it/s]\u001b[A\n",
      "Reading Files:  94%|█████████▍| 141/150 [00:07<00:00, 18.99it/s]\u001b[A\n",
      "Reading Files:  96%|█████████▌| 144/150 [00:07<00:00, 19.12it/s]\u001b[A\n",
      "Reading Files:  98%|█████████▊| 147/150 [00:07<00:00, 19.00it/s]\u001b[A\n",
      "Reading Files: 100%|██████████| 150/150 [00:07<00:00, 18.97it/s]\u001b[A\n",
      "Labels: 100%|██████████| 2/2 [00:31<00:00, 15.52s/it]\n"
     ]
    }
   ],
   "source": [
    "for label in tqdm(labels, desc='Labels'):\n",
    "    files = os.listdir(opj(root, label))\n",
    "    paths = [opj(opj(root, label), i) for i in files]\n",
    "    for path in tqdm(paths, desc='Reading Files'):\n",
    "        with open(path, 'r') as fl:\n",
    "            xml = fl.read()\n",
    "        text = prep(xml)\n",
    "        texts.append(text)\n",
    "        targets.append(label)"
   ]
  },
  {
   "cell_type": "code",
   "execution_count": 6,
   "metadata": {
    "collapsed": true
   },
   "outputs": [],
   "source": [
    "import pandas as pd"
   ]
  },
  {
   "cell_type": "code",
   "execution_count": 7,
   "metadata": {
    "collapsed": true
   },
   "outputs": [],
   "source": [
    "text = pd.DataFrame(texts, columns = ['texts'])\n",
    "targ= pd.DataFrame(targets, columns = ['targets'])\n",
    "df = pd.concat([text,targ],axis = 1)\n",
    "df = df.sample(frac = 1).reset_index(drop = True)"
   ]
  },
  {
   "cell_type": "code",
   "execution_count": 8,
   "metadata": {},
   "outputs": [
    {
     "data": {
      "text/html": [
       "<div>\n",
       "<style>\n",
       "    .dataframe thead tr:only-child th {\n",
       "        text-align: right;\n",
       "    }\n",
       "\n",
       "    .dataframe thead th {\n",
       "        text-align: left;\n",
       "    }\n",
       "\n",
       "    .dataframe tbody tr th {\n",
       "        vertical-align: top;\n",
       "    }\n",
       "</style>\n",
       "<table border=\"1\" class=\"dataframe\">\n",
       "  <thead>\n",
       "    <tr style=\"text-align: right;\">\n",
       "      <th></th>\n",
       "      <th>texts</th>\n",
       "      <th>targets</th>\n",
       "    </tr>\n",
       "  </thead>\n",
       "  <tbody>\n",
       "    <tr>\n",
       "      <th>0</th>\n",
       "      <td>Cancer Ima in Cancer Ima in Cancer Ima in BioM...</td>\n",
       "      <td>cancer</td>\n",
       "    </tr>\n",
       "    <tr>\n",
       "      <th>1</th>\n",
       "      <td>Case Rep PsychiatryCase Rep PsychiatryCRIPSCas...</td>\n",
       "      <td>noncancer</td>\n",
       "    </tr>\n",
       "    <tr>\n",
       "      <th>2</th>\n",
       "      <td>Cancer Ima in CICancer Ima in Cancer Ima in e ...</td>\n",
       "      <td>cancer</td>\n",
       "    </tr>\n",
       "    <tr>\n",
       "      <th>3</th>\n",
       "      <td>Cancer Ima in Cancer Ima in Cancer Ima in BioM...</td>\n",
       "      <td>cancer</td>\n",
       "    </tr>\n",
       "    <tr>\n",
       "      <th>4</th>\n",
       "      <td>Case Reports ImmunolCase Reports ImmunolCRIICa...</td>\n",
       "      <td>noncancer</td>\n",
       "    </tr>\n",
       "  </tbody>\n",
       "</table>\n",
       "</div>"
      ],
      "text/plain": [
       "                                               texts    targets\n",
       "0  Cancer Ima in Cancer Ima in Cancer Ima in BioM...     cancer\n",
       "1  Case Rep PsychiatryCase Rep PsychiatryCRIPSCas...  noncancer\n",
       "2  Cancer Ima in CICancer Ima in Cancer Ima in e ...     cancer\n",
       "3  Cancer Ima in Cancer Ima in Cancer Ima in BioM...     cancer\n",
       "4  Case Reports ImmunolCase Reports ImmunolCRIICa...  noncancer"
      ]
     },
     "execution_count": 8,
     "metadata": {},
     "output_type": "execute_result"
    }
   ],
   "source": [
    "df.head(5)"
   ]
  },
  {
   "cell_type": "code",
   "execution_count": 9,
   "metadata": {
    "collapsed": true
   },
   "outputs": [],
   "source": [
    "from sklearn.feature_extraction.text import TfidfVectorizer"
   ]
  },
  {
   "cell_type": "code",
   "execution_count": 10,
   "metadata": {},
   "outputs": [
    {
     "name": "stdout",
     "output_type": "stream",
     "text": [
      "Generating vectors\n"
     ]
    }
   ],
   "source": [
    "print('Generating vectors')\n",
    "tf = TfidfVectorizer(sublinear_tf= True,norm=\"l2\",max_features = 1500,stop_words= 'english')\n",
    "x = tf.fit_transform(text)\n",
    "# we know there are only two labels and so this scheme works\n",
    "# otherwise use something like onehot encoder\n",
    "y = np.array([(1 if i == labels[0] else 0)\n",
    "              for i in targ])"
   ]
  },
  {
   "cell_type": "code",
   "execution_count": 11,
   "metadata": {
    "collapsed": true
   },
   "outputs": [],
   "source": [
    "ss_tftdm = tf.transform(text)\n",
    "std_n = ss_tftdm.toarray()"
   ]
  },
  {
   "cell_type": "code",
   "execution_count": 12,
   "metadata": {
    "collapsed": true
   },
   "outputs": [],
   "source": [
    "nx = pd.DataFrame(ss_tftdm.toarray(),columns = tf.get_feature_names())"
   ]
  },
  {
   "cell_type": "code",
   "execution_count": 14,
   "metadata": {},
   "outputs": [
    {
     "data": {
      "text/plain": [
       "<1x1 sparse matrix of type '<class 'numpy.float64'>'\n",
       "\twith 1 stored elements in Compressed Sparse Row format>"
      ]
     },
     "execution_count": 14,
     "metadata": {},
     "output_type": "execute_result"
    }
   ],
   "source": [
    "st"
   ]
  },
  {
   "cell_type": "code",
   "execution_count": null,
   "metadata": {
    "collapsed": true
   },
   "outputs": [],
   "source": []
  }
 ],
 "metadata": {
  "anaconda-cloud": {},
  "kernelspec": {
   "display_name": "Python [conda root]",
   "language": "python",
   "name": "conda-root-py"
  },
  "language_info": {
   "codemirror_mode": {
    "name": "ipython",
    "version": 3
   },
   "file_extension": ".py",
   "mimetype": "text/x-python",
   "name": "python",
   "nbconvert_exporter": "python",
   "pygments_lexer": "ipython3",
   "version": "3.5.4"
  }
 },
 "nbformat": 4,
 "nbformat_minor": 2
}
